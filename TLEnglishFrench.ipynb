{
 "cells": [
  {
   "cell_type": "code",
   "execution_count": 6,
   "id": "993e58e5-7735-4551-8a0a-eb855b8d126e",
   "metadata": {},
   "outputs": [],
   "source": [
    "import pandas as pd\n",
    "import matplotlib.pyplot as plt\n",
    "\n",
    "chemin_fichier_csv = 'DBfinal.csv'\n",
    "dataset = pd.read_csv(chemin_fichier_csv)"
   ]
  },
  {
   "cell_type": "code",
   "execution_count": 7,
   "id": "70e92d31-f38f-4649-8dd7-aa36d66abe6b",
   "metadata": {},
   "outputs": [
    {
     "name": "stdout",
     "output_type": "stream",
     "text": [
      "Taille de l'ensemble d'entraînement: 117203\n",
      "Taille de l'ensemble de test: 1184\n"
     ]
    }
   ],
   "source": [
    "from sklearn.model_selection import train_test_split\n",
    "\n",
    "train, test = train_test_split(dataset, test_size=0.01)\n",
    "\n",
    "print(f\"Taille de l'ensemble d'entraînement: {len(train)}\")\n",
    "print(f\"Taille de l'ensemble de test: {len(test)}\")\n"
   ]
  },
  {
   "cell_type": "code",
   "execution_count": 8,
   "id": "f56c7a25-4369-4e3a-9477-dfbd8780e5f2",
   "metadata": {},
   "outputs": [],
   "source": [
    "from transformers import MarianTokenizer\n",
    "\n",
    "model_name = \"Helsinki-NLP/opus-mt-en-fr\"\n",
    "tokenizer = MarianTokenizer.from_pretrained(model_name)"
   ]
  },
  {
   "cell_type": "code",
   "execution_count": 9,
   "id": "fe259772-e4be-4786-92c3-747a83c4fc7e",
   "metadata": {},
   "outputs": [],
   "source": [
    "from datasets import Dataset\n",
    "\n",
    "train_dataset = Dataset.from_pandas(train)\n",
    "test_dataset = Dataset.from_pandas(test)"
   ]
  },
  {
   "cell_type": "code",
   "execution_count": 10,
   "id": "11eff276-f91a-4f7d-859b-4723c2070542",
   "metadata": {},
   "outputs": [
    {
     "data": {
      "application/vnd.jupyter.widget-view+json": {
       "model_id": "c7a20f23227045918654a10e120fa2e1",
       "version_major": 2,
       "version_minor": 0
      },
      "text/plain": [
       "Map:   0%|          | 0/117203 [00:00<?, ? examples/s]"
      ]
     },
     "metadata": {},
     "output_type": "display_data"
    },
    {
     "data": {
      "application/vnd.jupyter.widget-view+json": {
       "model_id": "fdfdfa4a5c74489fb0171cce395520af",
       "version_major": 2,
       "version_minor": 0
      },
      "text/plain": [
       "Map:   0%|          | 0/1184 [00:00<?, ? examples/s]"
      ]
     },
     "metadata": {},
     "output_type": "display_data"
    }
   ],
   "source": [
    "def preprocess_function(examples):\n",
    "    \n",
    "    inputs = tokenizer(examples[\"eng\"], max_length=35, truncation=True, padding=\"max_length\")\n",
    "    targets = tokenizer(examples[\"fr\"], max_length=35, truncation=True, padding=\"max_length\")\n",
    "    return {\"input_ids\": inputs.input_ids, \"attention_mask\": inputs.attention_mask, \"labels\": targets.input_ids}\n",
    "\n",
    "tokenized_train_dataset = train_dataset.map(preprocess_function, batched=True)\n",
    "tokenized_test_dataset = test_dataset.map(preprocess_function, batched=True)\n"
   ]
  },
  {
   "cell_type": "code",
   "execution_count": 13,
   "id": "6f70a3a8-a4d3-49a7-a665-b9cef233aad5",
   "metadata": {},
   "outputs": [
    {
     "name": "stderr",
     "output_type": "stream",
     "text": [
      "C:\\Users\\duody\\anaconda3\\envs\\envforcuda\\lib\\site-packages\\huggingface_hub\\file_download.py:1132: FutureWarning: `resume_download` is deprecated and will be removed in version 1.0.0. Downloads always resume when possible. If you want to force a new download, use `force_download=True`.\n",
      "  warnings.warn(\n"
     ]
    },
    {
     "name": "stdout",
     "output_type": "stream",
     "text": [
      "Le modèle utilise : cuda\n"
     ]
    },
    {
     "data": {
      "text/html": [
       "\n",
       "    <div>\n",
       "      \n",
       "      <progress value='29304' max='29304' style='width:300px; height:20px; vertical-align: middle;'></progress>\n",
       "      [29304/29304 2:17:56, Epoch 4/4]\n",
       "    </div>\n",
       "    <table border=\"1\" class=\"dataframe\">\n",
       "  <thead>\n",
       " <tr style=\"text-align: left;\">\n",
       "      <th>Epoch</th>\n",
       "      <th>Training Loss</th>\n",
       "      <th>Validation Loss</th>\n",
       "    </tr>\n",
       "  </thead>\n",
       "  <tbody>\n",
       "    <tr>\n",
       "      <td>1</td>\n",
       "      <td>0.348500</td>\n",
       "      <td>0.277609</td>\n",
       "    </tr>\n",
       "    <tr>\n",
       "      <td>2</td>\n",
       "      <td>0.250600</td>\n",
       "      <td>0.237238</td>\n",
       "    </tr>\n",
       "    <tr>\n",
       "      <td>3</td>\n",
       "      <td>0.196800</td>\n",
       "      <td>0.221928</td>\n",
       "    </tr>\n",
       "    <tr>\n",
       "      <td>4</td>\n",
       "      <td>0.165200</td>\n",
       "      <td>0.216340</td>\n",
       "    </tr>\n",
       "  </tbody>\n",
       "</table><p>"
      ],
      "text/plain": [
       "<IPython.core.display.HTML object>"
      ]
     },
     "metadata": {},
     "output_type": "display_data"
    },
    {
     "name": "stderr",
     "output_type": "stream",
     "text": [
      "Some non-default generation parameters are set in the model config. These should go into a GenerationConfig file (https://huggingface.co/docs/transformers/generation_strategies#save-a-custom-decoding-strategy-with-your-model) instead. This warning will be raised to an exception in v4.41.\n",
      "Non-default generation parameters: {'max_length': 512, 'num_beams': 4, 'bad_words_ids': [[59513]], 'forced_eos_token_id': 0}\n",
      "Some non-default generation parameters are set in the model config. These should go into a GenerationConfig file (https://huggingface.co/docs/transformers/generation_strategies#save-a-custom-decoding-strategy-with-your-model) instead. This warning will be raised to an exception in v4.41.\n",
      "Non-default generation parameters: {'max_length': 512, 'num_beams': 4, 'bad_words_ids': [[59513]], 'forced_eos_token_id': 0}\n",
      "Some non-default generation parameters are set in the model config. These should go into a GenerationConfig file (https://huggingface.co/docs/transformers/generation_strategies#save-a-custom-decoding-strategy-with-your-model) instead. This warning will be raised to an exception in v4.41.\n",
      "Non-default generation parameters: {'max_length': 512, 'num_beams': 4, 'bad_words_ids': [[59513]], 'forced_eos_token_id': 0}\n",
      "Some non-default generation parameters are set in the model config. These should go into a GenerationConfig file (https://huggingface.co/docs/transformers/generation_strategies#save-a-custom-decoding-strategy-with-your-model) instead. This warning will be raised to an exception in v4.41.\n",
      "Non-default generation parameters: {'max_length': 512, 'num_beams': 4, 'bad_words_ids': [[59513]], 'forced_eos_token_id': 0}\n"
     ]
    },
    {
     "data": {
      "text/plain": [
       "TrainOutput(global_step=29304, training_loss=0.30409445008911334, metrics={'train_runtime': 8287.2016, 'train_samples_per_second': 56.571, 'train_steps_per_second': 3.536, 'total_flos': 4345457883217920.0, 'train_loss': 0.30409445008911334, 'epoch': 4.0})"
      ]
     },
     "execution_count": 13,
     "metadata": {},
     "output_type": "execute_result"
    }
   ],
   "source": [
    "from transformers import MarianMTModel, MarianConfig, TrainingArguments, Trainer\n",
    "import torch\n",
    "\n",
    "config = MarianConfig.from_pretrained(model_name)\n",
    "model = MarianMTModel.from_pretrained(model_name, config=config)\n",
    "\n",
    "device = torch.device(\"cuda\" if torch.cuda.is_available() else \"cpu\")\n",
    "model.to(device)  \n",
    "print(f\"Le modèle utilise : {device}\")\n",
    "\n",
    "training_args = TrainingArguments(\n",
    "    output_dir=\"./resultsENG\",\n",
    "    num_train_epochs=4,\n",
    "    per_device_train_batch_size=16,\n",
    "    per_device_eval_batch_size=64,\n",
    "    warmup_steps=500,\n",
    "    weight_decay=0.01,\n",
    "    logging_dir=\"./logs\",\n",
    "    eval_strategy=\"epoch\",  \n",
    "    save_strategy=\"epoch\",  \n",
    "    save_total_limit=3,  \n",
    "    no_cuda=not torch.cuda.is_available(),  \n",
    "    dataloader_num_workers=4,  \n",
    "    dataloader_prefetch_factor=2  \n",
    ")\n",
    "\n",
    "# Trainer\n",
    "trainer = Trainer(\n",
    "    model=model,\n",
    "    args=training_args,\n",
    "    train_dataset=tokenized_train_dataset,  \n",
    "    eval_dataset=tokenized_test_dataset     \n",
    ")\n",
    "\n",
    "trainer.train()"
   ]
  },
  {
   "cell_type": "code",
   "execution_count": 14,
   "id": "67ee051e-51e4-4bac-ba2e-b3aa9f848345",
   "metadata": {},
   "outputs": [
    {
     "data": {
      "text/plain": [
       "('resultsENG\\\\checkpoint-29304\\\\tokenizer_config.json',\n",
       " 'resultsENG\\\\checkpoint-29304\\\\special_tokens_map.json',\n",
       " 'resultsENG\\\\checkpoint-29304\\\\vocab.json',\n",
       " 'resultsENG\\\\checkpoint-29304\\\\source.spm',\n",
       " 'resultsENG\\\\checkpoint-29304\\\\target.spm',\n",
       " 'resultsENG\\\\checkpoint-29304\\\\added_tokens.json')"
      ]
     },
     "execution_count": 14,
     "metadata": {},
     "output_type": "execute_result"
    }
   ],
   "source": [
    "tokenizer.save_pretrained('resultsENG\\checkpoint-29304')"
   ]
  },
  {
   "cell_type": "code",
   "execution_count": 1,
   "id": "c139a3a4-5262-442b-a360-968d7fbeac4b",
   "metadata": {},
   "outputs": [
    {
     "name": "stdout",
     "output_type": "stream",
     "text": [
      "Au bar, elle a passé le meilleur moment de sa vie car elle a vraiment rencontré quelqu'un de\n"
     ]
    }
   ],
   "source": [
    "from transformers import MarianMTModel, MarianTokenizer\n",
    "\n",
    "model_path = \"resultsENG\\checkpoint-29304\"\n",
    "model = MarianMTModel.from_pretrained(model_path)\n",
    "tokenizer = MarianTokenizer.from_pretrained(model_path)\n",
    "\n",
    "\n",
    "def translate(text, model, tokenizer):\n",
    "    inputs = tokenizer(text, return_tensors=\"pt\", truncation=True, max_length=512).to(model.device)\n",
    "    translated_tokens = model.generate(**inputs)\n",
    "    translated_text = tokenizer.decode(translated_tokens[0], skip_special_tokens=True)\n",
    "    return translated_text\n",
    "\n",
    "\n",
    "\n",
    "source_text = \"At the bar, she had the time of her life because she met someone really good\"\n",
    "translated_text = translate(source_text, model, tokenizer)\n",
    "print(translated_text)   "
   ]
  },
  {
   "cell_type": "code",
   "execution_count": 35,
   "id": "7f9c255a-f38b-44b4-b322-7aef76c3fba6",
   "metadata": {},
   "outputs": [
    {
     "name": "stdout",
     "output_type": "stream",
     "text": [
      "Translated text: C'est la peinture la plus célèbre au monde, et pourtant, quand les téléspectateurs parviennent à voir\n"
     ]
    }
   ],
   "source": [
    "\n",
    "model_name = \"Helsinki-NLP/opus-mt-en-fr\"\n",
    "tokenizer = MarianTokenizer.from_pretrained(model_name)\n",
    "model = MarianMTModel.from_pretrained(model_name)\n",
    "\n",
    "\n",
    "def translate(text):\n",
    "    inputs = tokenizer(text, return_tensors=\"pt\", padding=True, truncation=True)\n",
    "    outputs = model.generate(**inputs)\n",
    "    translated_text = tokenizer.decode(outputs[0], skip_special_tokens=True)\n",
    "    return translated_text\n",
    "\n",
    "\n",
    "text = \"It is the most famous painting in the world, and yet, when viewers manage to see\"\n",
    "translated_text = translate(text)\n",
    "print(\"Translated text:\", translated_text)\n"
   ]
  },
  {
   "cell_type": "code",
   "execution_count": null,
   "id": "60f7ab9a-c31f-4495-ba9d-73ff7cb612da",
   "metadata": {},
   "outputs": [],
   "source": [
    "\"It is the most famous painting in the world, and yet, when viewers manage to see\""
   ]
  }
 ],
 "metadata": {
  "kernelspec": {
   "display_name": "Python (CUDAenv)",
   "language": "python",
   "name": "envforcuda"
  },
  "language_info": {
   "codemirror_mode": {
    "name": "ipython",
    "version": 3
   },
   "file_extension": ".py",
   "mimetype": "text/x-python",
   "name": "python",
   "nbconvert_exporter": "python",
   "pygments_lexer": "ipython3",
   "version": "3.8.18"
  }
 },
 "nbformat": 4,
 "nbformat_minor": 5
}
